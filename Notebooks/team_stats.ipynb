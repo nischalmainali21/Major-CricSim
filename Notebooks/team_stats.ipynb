{
 "cells": [
  {
   "cell_type": "markdown",
   "metadata": {},
   "source": [
    "# Overall Stats"
   ]
  },
  {
   "cell_type": "code",
   "execution_count": 1,
   "metadata": {},
   "outputs": [],
   "source": [
    "import plotly.express as px\n",
    "import matplotlib\n",
    "import matplotlib.pyplot as plt\n",
    "import seaborn as sns\n",
    "import numpy as np \n",
    "%matplotlib inline\n",
    "\n",
    "sns.set_style('darkgrid')\n",
    "matplotlib.rcParams['font.size'] = 14\n",
    "matplotlib.rcParams['figure.figsize'] = (10, 6)\n",
    "matplotlib.rcParams['figure.facecolor'] = '#00000000'\n",
    "import pandas as pd "
   ]
  },
  {
   "cell_type": "code",
   "execution_count": 2,
   "metadata": {},
   "outputs": [],
   "source": [
    "dfDeliveries = pd.read_csv(\"../data/IPL_Ball_by_Ball_2008_2022.csv\") \n",
    "dfMatches = pd.read_csv(\"../data/IPL_Matches_2008_2022.csv\")\n"
   ]
  },
  {
   "cell_type": "markdown",
   "metadata": {},
   "source": [
    "Merge the dataframes"
   ]
  },
  {
   "cell_type": "code",
   "execution_count": 3,
   "metadata": {},
   "outputs": [],
   "source": [
    "dfMerged = dfDeliveries.merge(dfMatches, on='ID')"
   ]
  },
  {
   "cell_type": "code",
   "execution_count": 10,
   "metadata": {},
   "outputs": [
    {
     "data": {
      "text/html": [
       "<div>\n",
       "<style scoped>\n",
       "    .dataframe tbody tr th:only-of-type {\n",
       "        vertical-align: middle;\n",
       "    }\n",
       "\n",
       "    .dataframe tbody tr th {\n",
       "        vertical-align: top;\n",
       "    }\n",
       "\n",
       "    .dataframe thead th {\n",
       "        text-align: right;\n",
       "    }\n",
       "</style>\n",
       "<table border=\"1\" class=\"dataframe\">\n",
       "  <thead>\n",
       "    <tr style=\"text-align: right;\">\n",
       "      <th></th>\n",
       "      <th>ID</th>\n",
       "      <th>innings</th>\n",
       "      <th>overs</th>\n",
       "      <th>ballnumber</th>\n",
       "      <th>batter</th>\n",
       "      <th>bowler</th>\n",
       "      <th>non-striker</th>\n",
       "      <th>extra_type</th>\n",
       "      <th>batsman_run</th>\n",
       "      <th>extras_run</th>\n",
       "      <th>...</th>\n",
       "      <th>WinningTeam</th>\n",
       "      <th>WonBy</th>\n",
       "      <th>Margin</th>\n",
       "      <th>method</th>\n",
       "      <th>Player_of_Match</th>\n",
       "      <th>Team1Players</th>\n",
       "      <th>Team2Players</th>\n",
       "      <th>Umpire1</th>\n",
       "      <th>Umpire2</th>\n",
       "      <th>BowlingTeam</th>\n",
       "    </tr>\n",
       "  </thead>\n",
       "  <tbody>\n",
       "    <tr>\n",
       "      <th>0</th>\n",
       "      <td>1312200</td>\n",
       "      <td>1</td>\n",
       "      <td>0</td>\n",
       "      <td>1</td>\n",
       "      <td>YBK Jaiswal</td>\n",
       "      <td>Mohammed Shami</td>\n",
       "      <td>JC Buttler</td>\n",
       "      <td>NaN</td>\n",
       "      <td>0</td>\n",
       "      <td>0</td>\n",
       "      <td>...</td>\n",
       "      <td>Gujarat Titans</td>\n",
       "      <td>Wickets</td>\n",
       "      <td>7.0</td>\n",
       "      <td>NaN</td>\n",
       "      <td>HH Pandya</td>\n",
       "      <td>['YBK Jaiswal', 'JC Buttler', 'SV Samson', 'D ...</td>\n",
       "      <td>['WP Saha', 'Shubman Gill', 'MS Wade', 'HH Pan...</td>\n",
       "      <td>CB Gaffaney</td>\n",
       "      <td>Nitin Menon</td>\n",
       "      <td>Gujarat Titans</td>\n",
       "    </tr>\n",
       "    <tr>\n",
       "      <th>1</th>\n",
       "      <td>1312200</td>\n",
       "      <td>1</td>\n",
       "      <td>0</td>\n",
       "      <td>2</td>\n",
       "      <td>YBK Jaiswal</td>\n",
       "      <td>Mohammed Shami</td>\n",
       "      <td>JC Buttler</td>\n",
       "      <td>legbyes</td>\n",
       "      <td>0</td>\n",
       "      <td>1</td>\n",
       "      <td>...</td>\n",
       "      <td>Gujarat Titans</td>\n",
       "      <td>Wickets</td>\n",
       "      <td>7.0</td>\n",
       "      <td>NaN</td>\n",
       "      <td>HH Pandya</td>\n",
       "      <td>['YBK Jaiswal', 'JC Buttler', 'SV Samson', 'D ...</td>\n",
       "      <td>['WP Saha', 'Shubman Gill', 'MS Wade', 'HH Pan...</td>\n",
       "      <td>CB Gaffaney</td>\n",
       "      <td>Nitin Menon</td>\n",
       "      <td>Gujarat Titans</td>\n",
       "    </tr>\n",
       "    <tr>\n",
       "      <th>2</th>\n",
       "      <td>1312200</td>\n",
       "      <td>1</td>\n",
       "      <td>0</td>\n",
       "      <td>3</td>\n",
       "      <td>JC Buttler</td>\n",
       "      <td>Mohammed Shami</td>\n",
       "      <td>YBK Jaiswal</td>\n",
       "      <td>NaN</td>\n",
       "      <td>1</td>\n",
       "      <td>0</td>\n",
       "      <td>...</td>\n",
       "      <td>Gujarat Titans</td>\n",
       "      <td>Wickets</td>\n",
       "      <td>7.0</td>\n",
       "      <td>NaN</td>\n",
       "      <td>HH Pandya</td>\n",
       "      <td>['YBK Jaiswal', 'JC Buttler', 'SV Samson', 'D ...</td>\n",
       "      <td>['WP Saha', 'Shubman Gill', 'MS Wade', 'HH Pan...</td>\n",
       "      <td>CB Gaffaney</td>\n",
       "      <td>Nitin Menon</td>\n",
       "      <td>Gujarat Titans</td>\n",
       "    </tr>\n",
       "    <tr>\n",
       "      <th>3</th>\n",
       "      <td>1312200</td>\n",
       "      <td>1</td>\n",
       "      <td>0</td>\n",
       "      <td>4</td>\n",
       "      <td>YBK Jaiswal</td>\n",
       "      <td>Mohammed Shami</td>\n",
       "      <td>JC Buttler</td>\n",
       "      <td>NaN</td>\n",
       "      <td>0</td>\n",
       "      <td>0</td>\n",
       "      <td>...</td>\n",
       "      <td>Gujarat Titans</td>\n",
       "      <td>Wickets</td>\n",
       "      <td>7.0</td>\n",
       "      <td>NaN</td>\n",
       "      <td>HH Pandya</td>\n",
       "      <td>['YBK Jaiswal', 'JC Buttler', 'SV Samson', 'D ...</td>\n",
       "      <td>['WP Saha', 'Shubman Gill', 'MS Wade', 'HH Pan...</td>\n",
       "      <td>CB Gaffaney</td>\n",
       "      <td>Nitin Menon</td>\n",
       "      <td>Gujarat Titans</td>\n",
       "    </tr>\n",
       "    <tr>\n",
       "      <th>4</th>\n",
       "      <td>1312200</td>\n",
       "      <td>1</td>\n",
       "      <td>0</td>\n",
       "      <td>5</td>\n",
       "      <td>YBK Jaiswal</td>\n",
       "      <td>Mohammed Shami</td>\n",
       "      <td>JC Buttler</td>\n",
       "      <td>NaN</td>\n",
       "      <td>0</td>\n",
       "      <td>0</td>\n",
       "      <td>...</td>\n",
       "      <td>Gujarat Titans</td>\n",
       "      <td>Wickets</td>\n",
       "      <td>7.0</td>\n",
       "      <td>NaN</td>\n",
       "      <td>HH Pandya</td>\n",
       "      <td>['YBK Jaiswal', 'JC Buttler', 'SV Samson', 'D ...</td>\n",
       "      <td>['WP Saha', 'Shubman Gill', 'MS Wade', 'HH Pan...</td>\n",
       "      <td>CB Gaffaney</td>\n",
       "      <td>Nitin Menon</td>\n",
       "      <td>Gujarat Titans</td>\n",
       "    </tr>\n",
       "  </tbody>\n",
       "</table>\n",
       "<p>5 rows × 37 columns</p>\n",
       "</div>"
      ],
      "text/plain": [
       "        ID  innings  overs  ballnumber       batter          bowler  \\\n",
       "0  1312200        1      0           1  YBK Jaiswal  Mohammed Shami   \n",
       "1  1312200        1      0           2  YBK Jaiswal  Mohammed Shami   \n",
       "2  1312200        1      0           3   JC Buttler  Mohammed Shami   \n",
       "3  1312200        1      0           4  YBK Jaiswal  Mohammed Shami   \n",
       "4  1312200        1      0           5  YBK Jaiswal  Mohammed Shami   \n",
       "\n",
       "   non-striker extra_type  batsman_run  extras_run  ...     WinningTeam  \\\n",
       "0   JC Buttler        NaN            0           0  ...  Gujarat Titans   \n",
       "1   JC Buttler    legbyes            0           1  ...  Gujarat Titans   \n",
       "2  YBK Jaiswal        NaN            1           0  ...  Gujarat Titans   \n",
       "3   JC Buttler        NaN            0           0  ...  Gujarat Titans   \n",
       "4   JC Buttler        NaN            0           0  ...  Gujarat Titans   \n",
       "\n",
       "     WonBy  Margin method Player_of_Match  \\\n",
       "0  Wickets     7.0    NaN       HH Pandya   \n",
       "1  Wickets     7.0    NaN       HH Pandya   \n",
       "2  Wickets     7.0    NaN       HH Pandya   \n",
       "3  Wickets     7.0    NaN       HH Pandya   \n",
       "4  Wickets     7.0    NaN       HH Pandya   \n",
       "\n",
       "                                        Team1Players  \\\n",
       "0  ['YBK Jaiswal', 'JC Buttler', 'SV Samson', 'D ...   \n",
       "1  ['YBK Jaiswal', 'JC Buttler', 'SV Samson', 'D ...   \n",
       "2  ['YBK Jaiswal', 'JC Buttler', 'SV Samson', 'D ...   \n",
       "3  ['YBK Jaiswal', 'JC Buttler', 'SV Samson', 'D ...   \n",
       "4  ['YBK Jaiswal', 'JC Buttler', 'SV Samson', 'D ...   \n",
       "\n",
       "                                        Team2Players      Umpire1  \\\n",
       "0  ['WP Saha', 'Shubman Gill', 'MS Wade', 'HH Pan...  CB Gaffaney   \n",
       "1  ['WP Saha', 'Shubman Gill', 'MS Wade', 'HH Pan...  CB Gaffaney   \n",
       "2  ['WP Saha', 'Shubman Gill', 'MS Wade', 'HH Pan...  CB Gaffaney   \n",
       "3  ['WP Saha', 'Shubman Gill', 'MS Wade', 'HH Pan...  CB Gaffaney   \n",
       "4  ['WP Saha', 'Shubman Gill', 'MS Wade', 'HH Pan...  CB Gaffaney   \n",
       "\n",
       "       Umpire2     BowlingTeam  \n",
       "0  Nitin Menon  Gujarat Titans  \n",
       "1  Nitin Menon  Gujarat Titans  \n",
       "2  Nitin Menon  Gujarat Titans  \n",
       "3  Nitin Menon  Gujarat Titans  \n",
       "4  Nitin Menon  Gujarat Titans  \n",
       "\n",
       "[5 rows x 37 columns]"
      ]
     },
     "execution_count": 10,
     "metadata": {},
     "output_type": "execute_result"
    }
   ],
   "source": [
    "dfMerged.head(5)"
   ]
  },
  {
   "cell_type": "code",
   "execution_count": 9,
   "metadata": {},
   "outputs": [
    {
     "data": {
      "text/plain": [
       "Index(['ID', 'innings', 'overs', 'ballnumber', 'batter', 'bowler',\n",
       "       'non-striker', 'extra_type', 'batsman_run', 'extras_run', 'total_run',\n",
       "       'non_boundary', 'isWicketDelivery', 'player_out', 'kind',\n",
       "       'fielders_involved', 'BattingTeam', 'City', 'Date', 'Season',\n",
       "       'MatchNumber', 'Team1', 'Team2', 'Venue', 'TossWinner', 'TossDecision',\n",
       "       'SuperOver', 'WinningTeam', 'WonBy', 'Margin', 'method',\n",
       "       'Player_of_Match', 'Team1Players', 'Team2Players', 'Umpire1', 'Umpire2',\n",
       "       'BowlingTeam'],\n",
       "      dtype='object')"
      ]
     },
     "execution_count": 9,
     "metadata": {},
     "output_type": "execute_result"
    }
   ],
   "source": [
    "dfMerged.columns"
   ]
  },
  {
   "cell_type": "markdown",
   "metadata": {},
   "source": [
    "Adding the bowling team column"
   ]
  },
  {
   "cell_type": "code",
   "execution_count": 8,
   "metadata": {},
   "outputs": [],
   "source": [
    "dfMerged['BowlingTeam'] = np.where(dfMerged['BattingTeam']==dfMerged['Team1'],\n",
    "                                       dfMerged['Team2'],\n",
    "                                       dfMerged['Team1'])"
   ]
  },
  {
   "cell_type": "markdown",
   "metadata": {},
   "source": [
    "Cleaning the season column"
   ]
  },
  {
   "cell_type": "code",
   "execution_count": 13,
   "metadata": {},
   "outputs": [
    {
     "data": {
      "text/plain": [
       "array(['2022', '2021', '2020', '2019', '2018', '2017', '2016', '2015',\n",
       "       '2014', '2013', '2012', '2011', '2010', '2009', '2008'],\n",
       "      dtype=object)"
      ]
     },
     "execution_count": 13,
     "metadata": {},
     "output_type": "execute_result"
    }
   ],
   "source": [
    "dfMerged['Season'].unique()"
   ]
  },
  {
   "cell_type": "code",
   "execution_count": 12,
   "metadata": {},
   "outputs": [],
   "source": [
    "dfMerged['Season'] = dfMerged['Season'].replace({'2020/21': '2020', '2009/10': '2010', '2007/08': '2008'})"
   ]
  },
  {
   "cell_type": "markdown",
   "metadata": {},
   "source": [
    "batting group and bowling group"
   ]
  },
  {
   "cell_type": "code",
   "execution_count": 14,
   "metadata": {},
   "outputs": [],
   "source": [
    "batgroup = dfMerged.groupby(['BattingTeam'])\n",
    "bowlgroup = dfMerged.groupby(['BowlingTeam'])"
   ]
  },
  {
   "cell_type": "markdown",
   "metadata": {},
   "source": [
    "batting Stats collection"
   ]
  },
  {
   "cell_type": "code",
   "execution_count": 15,
   "metadata": {},
   "outputs": [],
   "source": [
    "batting_team_stats = pd.DataFrame(batgroup['ballnumber'].count()).rename(columns={'ballnumber':'balls_faced'})"
   ]
  },
  {
   "cell_type": "code",
   "execution_count": 16,
   "metadata": {},
   "outputs": [],
   "source": [
    "batting_team_stats['matches_played'] = batgroup['ID'].nunique()"
   ]
  },
  {
   "cell_type": "code",
   "execution_count": 17,
   "metadata": {},
   "outputs": [],
   "source": [
    "batting_team_stats['runs'] = batgroup['batsman_run'].sum()"
   ]
  },
  {
   "cell_type": "code",
   "execution_count": 20,
   "metadata": {},
   "outputs": [],
   "source": [
    "batting_team_stats['4s'] = dfMerged[(dfMerged['batsman_run'] == 4) & (dfMerged['non_boundary'] == 0)].groupby('BattingTeam')['batsman_run'].count()"
   ]
  },
  {
   "cell_type": "code",
   "execution_count": 24,
   "metadata": {},
   "outputs": [],
   "source": [
    "batting_team_stats['4s'].fillna(0,inplace=True)"
   ]
  },
  {
   "cell_type": "code",
   "execution_count": 22,
   "metadata": {},
   "outputs": [],
   "source": [
    "batting_team_stats['6s'] = dfMerged[(dfMerged['batsman_run'] == 6) & (dfMerged['non_boundary'] == 0)].groupby('BattingTeam')['batsman_run'].count()\n"
   ]
  },
  {
   "cell_type": "code",
   "execution_count": 25,
   "metadata": {},
   "outputs": [],
   "source": [
    "batting_team_stats['6s'].fillna(0,inplace=True)\n"
   ]
  },
  {
   "cell_type": "code",
   "execution_count": 27,
   "metadata": {},
   "outputs": [],
   "source": [
    "batting_team_stats['1s'] = dfMerged[(dfMerged['batsman_run'] == 1) & (dfMerged['extras_run'] == 0)].groupby('BattingTeam')['batsman_run'].count()\n",
    "batting_team_stats['1s'].fillna(0,inplace=True)"
   ]
  },
  {
   "cell_type": "code",
   "execution_count": 29,
   "metadata": {},
   "outputs": [],
   "source": [
    "batting_team_stats['2s'] = dfMerged[(dfMerged['batsman_run'] == 2) & (dfMerged['extras_run'] == 0)].groupby('BattingTeam')['batsman_run'].count()\n",
    "batting_team_stats['2s'].fillna(0,inplace=True)"
   ]
  },
  {
   "cell_type": "code",
   "execution_count": 33,
   "metadata": {},
   "outputs": [],
   "source": [
    "batting_team_stats['0s'] = dfMerged[(dfMerged['batsman_run'] == 0) & (dfMerged['extras_run'] == 0)].groupby('BattingTeam')['batsman_run'].count()\n",
    "batting_team_stats['0s'].fillna(0,inplace=True)"
   ]
  },
  {
   "cell_type": "code",
   "execution_count": 50,
   "metadata": {},
   "outputs": [],
   "source": [
    "batting_team_stats['dismissals'] = batgroup['isWicketDelivery'].sum()"
   ]
  },
  {
   "cell_type": "code",
   "execution_count": 56,
   "metadata": {},
   "outputs": [],
   "source": [
    "batting_team_stats = batting_team_stats.drop('wickets_taken',axis=1)"
   ]
  },
  {
   "cell_type": "code",
   "execution_count": 57,
   "metadata": {},
   "outputs": [
    {
     "data": {
      "text/html": [
       "<div>\n",
       "<style scoped>\n",
       "    .dataframe tbody tr th:only-of-type {\n",
       "        vertical-align: middle;\n",
       "    }\n",
       "\n",
       "    .dataframe tbody tr th {\n",
       "        vertical-align: top;\n",
       "    }\n",
       "\n",
       "    .dataframe thead th {\n",
       "        text-align: right;\n",
       "    }\n",
       "</style>\n",
       "<table border=\"1\" class=\"dataframe\">\n",
       "  <thead>\n",
       "    <tr style=\"text-align: right;\">\n",
       "      <th></th>\n",
       "      <th>balls_faced</th>\n",
       "      <th>matches_played</th>\n",
       "      <th>runs</th>\n",
       "      <th>4s</th>\n",
       "      <th>6s</th>\n",
       "      <th>1s</th>\n",
       "      <th>2s</th>\n",
       "      <th>dismissals</th>\n",
       "      <th>0s</th>\n",
       "    </tr>\n",
       "    <tr>\n",
       "      <th>BattingTeam</th>\n",
       "      <th></th>\n",
       "      <th></th>\n",
       "      <th></th>\n",
       "      <th></th>\n",
       "      <th></th>\n",
       "      <th></th>\n",
       "      <th></th>\n",
       "      <th></th>\n",
       "      <th></th>\n",
       "    </tr>\n",
       "  </thead>\n",
       "  <tbody>\n",
       "    <tr>\n",
       "      <th>Chennai Super Kings</th>\n",
       "      <td>25128</td>\n",
       "      <td>208</td>\n",
       "      <td>31734</td>\n",
       "      <td>2788</td>\n",
       "      <td>1269</td>\n",
       "      <td>9399</td>\n",
       "      <td>1623</td>\n",
       "      <td>1089</td>\n",
       "      <td>8663</td>\n",
       "    </tr>\n",
       "    <tr>\n",
       "      <th>Deccan Chargers</th>\n",
       "      <td>9034</td>\n",
       "      <td>75</td>\n",
       "      <td>10885</td>\n",
       "      <td>957</td>\n",
       "      <td>400</td>\n",
       "      <td>3387</td>\n",
       "      <td>563</td>\n",
       "      <td>484</td>\n",
       "      <td>3227</td>\n",
       "    </tr>\n",
       "    <tr>\n",
       "      <th>Delhi Capitals</th>\n",
       "      <td>7587</td>\n",
       "      <td>63</td>\n",
       "      <td>9691</td>\n",
       "      <td>912</td>\n",
       "      <td>347</td>\n",
       "      <td>2956</td>\n",
       "      <td>458</td>\n",
       "      <td>372</td>\n",
       "      <td>2519</td>\n",
       "    </tr>\n",
       "    <tr>\n",
       "      <th>Delhi Daredevils</th>\n",
       "      <td>18786</td>\n",
       "      <td>161</td>\n",
       "      <td>23022</td>\n",
       "      <td>2156</td>\n",
       "      <td>801</td>\n",
       "      <td>7011</td>\n",
       "      <td>1176</td>\n",
       "      <td>952</td>\n",
       "      <td>6595</td>\n",
       "    </tr>\n",
       "    <tr>\n",
       "      <th>Gujarat Lions</th>\n",
       "      <td>3566</td>\n",
       "      <td>30</td>\n",
       "      <td>4629</td>\n",
       "      <td>460</td>\n",
       "      <td>155</td>\n",
       "      <td>1360</td>\n",
       "      <td>233</td>\n",
       "      <td>188</td>\n",
       "      <td>1155</td>\n",
       "    </tr>\n",
       "  </tbody>\n",
       "</table>\n",
       "</div>"
      ],
      "text/plain": [
       "                     balls_faced  matches_played   runs    4s    6s    1s  \\\n",
       "BattingTeam                                                                 \n",
       "Chennai Super Kings        25128             208  31734  2788  1269  9399   \n",
       "Deccan Chargers             9034              75  10885   957   400  3387   \n",
       "Delhi Capitals              7587              63   9691   912   347  2956   \n",
       "Delhi Daredevils           18786             161  23022  2156   801  7011   \n",
       "Gujarat Lions               3566              30   4629   460   155  1360   \n",
       "\n",
       "                       2s  dismissals    0s  \n",
       "BattingTeam                                  \n",
       "Chennai Super Kings  1623        1089  8663  \n",
       "Deccan Chargers       563         484  3227  \n",
       "Delhi Capitals        458         372  2519  \n",
       "Delhi Daredevils     1176         952  6595  \n",
       "Gujarat Lions         233         188  1155  "
      ]
     },
     "execution_count": 57,
     "metadata": {},
     "output_type": "execute_result"
    }
   ],
   "source": [
    "batting_team_stats.head(5)"
   ]
  },
  {
   "cell_type": "markdown",
   "metadata": {},
   "source": [
    "# bowling stats"
   ]
  },
  {
   "cell_type": "code",
   "execution_count": 35,
   "metadata": {},
   "outputs": [],
   "source": [
    "bowling_team_stats = pd.DataFrame(bowlgroup['ballnumber'].count()).rename(columns={'ballnumber':'balls_bowled'})"
   ]
  },
  {
   "cell_type": "code",
   "execution_count": 37,
   "metadata": {},
   "outputs": [],
   "source": [
    "bowling_team_stats['matches_played'] = bowlgroup['ID'].nunique()"
   ]
  },
  {
   "cell_type": "code",
   "execution_count": 39,
   "metadata": {},
   "outputs": [],
   "source": [
    "bowling_team_stats['runs_conceded'] = batgroup['total_run'].sum()"
   ]
  },
  {
   "cell_type": "code",
   "execution_count": 41,
   "metadata": {},
   "outputs": [],
   "source": [
    "bowling_team_stats['4s_conceded'] = dfMerged[(dfMerged['batsman_run'] == 4) & (dfMerged['non_boundary'] == 0)].groupby('BowlingTeam')['batsman_run'].count()\n",
    "bowling_team_stats['4s_conceded'].fillna(0,inplace=True)"
   ]
  },
  {
   "cell_type": "code",
   "execution_count": 43,
   "metadata": {},
   "outputs": [],
   "source": [
    "bowling_team_stats['6s_conceded'] = dfMerged[(dfMerged['batsman_run'] == 6) & (dfMerged['non_boundary'] == 0)].groupby('BowlingTeam')['batsman_run'].count()\n",
    "bowling_team_stats['6s_conceded'].fillna(0,inplace=True)"
   ]
  },
  {
   "cell_type": "code",
   "execution_count": 44,
   "metadata": {},
   "outputs": [],
   "source": [
    "bowling_team_stats['1s_conceded'] = dfMerged[(dfMerged['batsman_run'] == 1) & (dfMerged['extras_run'] == 0)].groupby('BowlingTeam')['batsman_run'].count()\n",
    "bowling_team_stats['1s_conceded'].fillna(0,inplace=True)"
   ]
  },
  {
   "cell_type": "code",
   "execution_count": 45,
   "metadata": {},
   "outputs": [],
   "source": [
    "bowling_team_stats['2s_conceded'] = dfMerged[(dfMerged['batsman_run'] == 2) & (dfMerged['extras_run'] == 0)].groupby('BowlingTeam')['batsman_run'].count()\n",
    "bowling_team_stats['2s_conceded'].fillna(0,inplace=True)"
   ]
  },
  {
   "cell_type": "code",
   "execution_count": 46,
   "metadata": {},
   "outputs": [],
   "source": [
    "bowling_team_stats['0s_conceded'] = dfMerged[(dfMerged['batsman_run'] == 0) & (dfMerged['extras_run'] == 0)].groupby('BowlingTeam')['batsman_run'].count()\n",
    "bowling_team_stats['0s_conceded'].fillna(0,inplace=True)"
   ]
  },
  {
   "cell_type": "code",
   "execution_count": 58,
   "metadata": {},
   "outputs": [],
   "source": [
    "bowling_team_stats['wickets_taken'] = bowlgroup['isWicketDelivery'].sum()"
   ]
  },
  {
   "cell_type": "code",
   "execution_count": 60,
   "metadata": {},
   "outputs": [
    {
     "data": {
      "text/plain": [
       "array([nan, 'legbyes', 'wides', 'byes', 'noballs', 'penalty'],\n",
       "      dtype=object)"
      ]
     },
     "execution_count": 60,
     "metadata": {},
     "output_type": "execute_result"
    }
   ],
   "source": [
    "dfMerged['extra_type'].unique()"
   ]
  },
  {
   "cell_type": "code",
   "execution_count": 66,
   "metadata": {},
   "outputs": [],
   "source": [
    "bowling_team_stats['noballs_conceded'] = dfMerged[dfMerged['extra_type'] == 'noballs'].groupby('BowlingTeam')['total_run'].count()\n",
    "bowling_team_stats['noballs_conceded'].fillna(0,inplace=True)"
   ]
  },
  {
   "cell_type": "code",
   "execution_count": 69,
   "metadata": {},
   "outputs": [
    {
     "data": {
      "text/plain": [
       "array([nan, 'caught', 'caught and bowled', 'run out', 'bowled', 'stumped',\n",
       "       'lbw', 'hit wicket', 'retired hurt', 'retired out',\n",
       "       'obstructing the field'], dtype=object)"
      ]
     },
     "execution_count": 69,
     "metadata": {},
     "output_type": "execute_result"
    }
   ],
   "source": [
    "dfMerged['kind'].unique()"
   ]
  },
  {
   "cell_type": "code",
   "execution_count": 67,
   "metadata": {},
   "outputs": [
    {
     "data": {
      "text/html": [
       "<div>\n",
       "<style scoped>\n",
       "    .dataframe tbody tr th:only-of-type {\n",
       "        vertical-align: middle;\n",
       "    }\n",
       "\n",
       "    .dataframe tbody tr th {\n",
       "        vertical-align: top;\n",
       "    }\n",
       "\n",
       "    .dataframe thead th {\n",
       "        text-align: right;\n",
       "    }\n",
       "</style>\n",
       "<table border=\"1\" class=\"dataframe\">\n",
       "  <thead>\n",
       "    <tr style=\"text-align: right;\">\n",
       "      <th></th>\n",
       "      <th>balls_bowled</th>\n",
       "      <th>matches_played</th>\n",
       "      <th>runs_conceded</th>\n",
       "      <th>4s_conceded</th>\n",
       "      <th>6s_conceded</th>\n",
       "      <th>1s_conceded</th>\n",
       "      <th>2s_conceded</th>\n",
       "      <th>0s_conceded</th>\n",
       "      <th>wickets_taken</th>\n",
       "      <th>legbyes_conceded</th>\n",
       "      <th>wides_conceded</th>\n",
       "      <th>byes_conceded</th>\n",
       "      <th>noballs_conceded</th>\n",
       "    </tr>\n",
       "    <tr>\n",
       "      <th>BowlingTeam</th>\n",
       "      <th></th>\n",
       "      <th></th>\n",
       "      <th></th>\n",
       "      <th></th>\n",
       "      <th></th>\n",
       "      <th></th>\n",
       "      <th></th>\n",
       "      <th></th>\n",
       "      <th></th>\n",
       "      <th></th>\n",
       "      <th></th>\n",
       "      <th></th>\n",
       "      <th></th>\n",
       "    </tr>\n",
       "  </thead>\n",
       "  <tbody>\n",
       "    <tr>\n",
       "      <th>Chennai Super Kings</th>\n",
       "      <td>24851</td>\n",
       "      <td>208</td>\n",
       "      <td>33393</td>\n",
       "      <td>2714</td>\n",
       "      <td>1157</td>\n",
       "      <td>9168</td>\n",
       "      <td>1603</td>\n",
       "      <td>8848</td>\n",
       "      <td>1290</td>\n",
       "      <td>371</td>\n",
       "      <td>782</td>\n",
       "      <td>49</td>\n",
       "      <td>81</td>\n",
       "    </tr>\n",
       "    <tr>\n",
       "      <th>Deccan Chargers</th>\n",
       "      <td>9039</td>\n",
       "      <td>75</td>\n",
       "      <td>11463</td>\n",
       "      <td>1013</td>\n",
       "      <td>405</td>\n",
       "      <td>3181</td>\n",
       "      <td>579</td>\n",
       "      <td>3306</td>\n",
       "      <td>446</td>\n",
       "      <td>166</td>\n",
       "      <td>280</td>\n",
       "      <td>31</td>\n",
       "      <td>49</td>\n",
       "    </tr>\n",
       "    <tr>\n",
       "      <th>Delhi Capitals</th>\n",
       "      <td>7730</td>\n",
       "      <td>63</td>\n",
       "      <td>10145</td>\n",
       "      <td>847</td>\n",
       "      <td>396</td>\n",
       "      <td>3049</td>\n",
       "      <td>432</td>\n",
       "      <td>2627</td>\n",
       "      <td>405</td>\n",
       "      <td>92</td>\n",
       "      <td>229</td>\n",
       "      <td>14</td>\n",
       "      <td>29</td>\n",
       "    </tr>\n",
       "    <tr>\n",
       "      <th>Delhi Daredevils</th>\n",
       "      <td>18725</td>\n",
       "      <td>160</td>\n",
       "      <td>24296</td>\n",
       "      <td>2180</td>\n",
       "      <td>870</td>\n",
       "      <td>6953</td>\n",
       "      <td>1139</td>\n",
       "      <td>6521</td>\n",
       "      <td>912</td>\n",
       "      <td>324</td>\n",
       "      <td>550</td>\n",
       "      <td>39</td>\n",
       "      <td>86</td>\n",
       "    </tr>\n",
       "    <tr>\n",
       "      <th>Gujarat Lions</th>\n",
       "      <td>3545</td>\n",
       "      <td>30</td>\n",
       "      <td>4862</td>\n",
       "      <td>453</td>\n",
       "      <td>190</td>\n",
       "      <td>1354</td>\n",
       "      <td>285</td>\n",
       "      <td>1097</td>\n",
       "      <td>151</td>\n",
       "      <td>55</td>\n",
       "      <td>91</td>\n",
       "      <td>7</td>\n",
       "      <td>7</td>\n",
       "    </tr>\n",
       "  </tbody>\n",
       "</table>\n",
       "</div>"
      ],
      "text/plain": [
       "                     balls_bowled  matches_played  runs_conceded  4s_conceded  \\\n",
       "BowlingTeam                                                                     \n",
       "Chennai Super Kings         24851             208          33393         2714   \n",
       "Deccan Chargers              9039              75          11463         1013   \n",
       "Delhi Capitals               7730              63          10145          847   \n",
       "Delhi Daredevils            18725             160          24296         2180   \n",
       "Gujarat Lions                3545              30           4862          453   \n",
       "\n",
       "                     6s_conceded  1s_conceded  2s_conceded  0s_conceded  \\\n",
       "BowlingTeam                                                               \n",
       "Chennai Super Kings         1157         9168         1603         8848   \n",
       "Deccan Chargers              405         3181          579         3306   \n",
       "Delhi Capitals               396         3049          432         2627   \n",
       "Delhi Daredevils             870         6953         1139         6521   \n",
       "Gujarat Lions                190         1354          285         1097   \n",
       "\n",
       "                     wickets_taken  legbyes_conceded  wides_conceded  \\\n",
       "BowlingTeam                                                            \n",
       "Chennai Super Kings           1290               371             782   \n",
       "Deccan Chargers                446               166             280   \n",
       "Delhi Capitals                 405                92             229   \n",
       "Delhi Daredevils               912               324             550   \n",
       "Gujarat Lions                  151                55              91   \n",
       "\n",
       "                     byes_conceded  noballs_conceded  \n",
       "BowlingTeam                                           \n",
       "Chennai Super Kings             49                81  \n",
       "Deccan Chargers                 31                49  \n",
       "Delhi Capitals                  14                29  \n",
       "Delhi Daredevils                39                86  \n",
       "Gujarat Lions                    7                 7  "
      ]
     },
     "execution_count": 67,
     "metadata": {},
     "output_type": "execute_result"
    }
   ],
   "source": [
    "bowling_team_stats.head(5)"
   ]
  }
 ],
 "metadata": {
  "kernelspec": {
   "display_name": "ActualMajor",
   "language": "python",
   "name": "python3"
  },
  "language_info": {
   "codemirror_mode": {
    "name": "ipython",
    "version": 3
   },
   "file_extension": ".py",
   "mimetype": "text/x-python",
   "name": "python",
   "nbconvert_exporter": "python",
   "pygments_lexer": "ipython3",
   "version": "3.10.5"
  }
 },
 "nbformat": 4,
 "nbformat_minor": 2
}
