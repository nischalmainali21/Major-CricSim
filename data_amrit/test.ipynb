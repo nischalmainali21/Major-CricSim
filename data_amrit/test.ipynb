{
 "cells": [
  {
   "cell_type": "code",
   "execution_count": null,
   "metadata": {},
   "outputs": [],
   "source": []
  },
  {
   "cell_type": "code",
   "execution_count": 1,
   "metadata": {},
   "outputs": [
    {
     "name": "stderr",
     "output_type": "stream",
     "text": [
      "C:\\Users\\nisch\\AppData\\Local\\Temp\\ipykernel_17936\\3533180967.py:8: FutureWarning: DataFrame.applymap has been deprecated. Use DataFrame.map instead.\n",
      "  df = df.applymap(lambda x: -x if isinstance(x, (int, float)) and x < 0 else x)\n"
     ]
    }
   ],
   "source": [
    "import pandas as pd\n",
    "\n",
    "# Read the CSV file into a DataFrame\n",
    "df = pd.read_csv('./all_bat.csv')\n",
    "\n",
    "df['batter'] = df['batter'].str.lower()\n",
    "\n",
    "df = df.applymap(lambda x: -x if isinstance(x, (int, float)) and x < 0 else x)\n",
    "\n",
    "# Convert DataFrame to JSON\n",
    "json_data = df.set_index('batter').to_json(orient='index')\n",
    "\n",
    "\n",
    "# Write JSON data to a file\n",
    "with open('all_bat.json', 'w') as f:\n",
    "    f.write(json_data)\n"
   ]
  },
  {
   "cell_type": "code",
   "execution_count": 2,
   "metadata": {},
   "outputs": [],
   "source": [
    "\n",
    "# Read the CSV file into a DataFrame\n",
    "df = pd.read_csv('./all_bowl.csv')\n",
    "\n",
    "df['bowler'] = df['bowler'].str.lower()\n",
    "\n",
    "df = df.map(lambda x: -x if isinstance(x, (int, float)) and x < 0 else x)\n",
    "# Convert DataFrame to JSON\n",
    "json_data = df.set_index('bowler').to_json(orient='index')\n",
    "\n",
    "# Write JSON data to a file\n",
    "with open('all_bowl.json', 'w') as f:\n",
    "    f.write(json_data)"
   ]
  },
  {
   "cell_type": "code",
   "execution_count": 6,
   "metadata": {},
   "outputs": [],
   "source": [
    "import pandas as pd\n",
    "import json\n",
    "\n",
    "# Read batting CSV file\n",
    "bat_df = pd.read_csv('./all_bat.csv')\n",
    "\n",
    "# Read bowling CSV file\n",
    "bowl_df = pd.read_csv('./all_bowl.csv')\n",
    "\n",
    "# Get unique player names from both dataframes\n",
    "unique_batters = set(bat_df['batter'])\n",
    "unique_bowlers = set(bowl_df['bowler'])\n",
    "\n",
    "# Combine unique player names from both batting and bowling data\n",
    "unique_players = unique_batters.union(unique_bowlers)\n",
    "\n",
    "\n",
    "# Create a dictionary with the required format\n",
    "data = {\"unique_players\": list(unique_players)}\n",
    "\n",
    "# Write the dictionary to a JSON file\n",
    "with open('unique_players.json', 'w') as f:\n",
    "    json.dump(data, f, indent=4)"
   ]
  },
  {
   "cell_type": "code",
   "execution_count": 9,
   "metadata": {},
   "outputs": [],
   "source": [
    "import json\n",
    "import pandas as pd\n",
    "\n",
    "# Read batting CSV file\n",
    "bat_df = pd.read_csv('all_bat.csv')\n",
    "\n",
    "# Read bowling CSV file\n",
    "bowl_df = pd.read_csv('all_bowl.csv')\n",
    "\n",
    "# Read player stats CSV file\n",
    "player_stats_df = pd.read_csv('../derived/player_stats_data.csv')\n",
    "\n",
    "# Get unique player names from player stats dataframe\n",
    "unique_players_stats = set(player_stats_df['player'])\n",
    "\n",
    "# Get unique player names from both batting and bowling data\n",
    "unique_batters = set(bat_df['batter'])\n",
    "unique_bowlers = set(bowl_df['bowler'])\n",
    "\n",
    "# Combine unique player names from both batting and bowling data\n",
    "unique_players = unique_batters.union(unique_bowlers)\n",
    "\n",
    "# Filter out the unique player names that are present in the player stats data\n",
    "unique_players_filtered = list(unique_players.intersection(unique_players_stats))\n",
    "\n",
    "unique_players_filtered.sort()\n",
    "\n",
    "# Create a dictionary with the required format\n",
    "data = {\"unique_players\": unique_players_filtered}\n",
    "\n",
    "# Write the dictionary to a JSON file\n",
    "with open('unique_players.json', 'w') as f:\n",
    "    json.dump(data, f, indent=4)\n"
   ]
  },
  {
   "cell_type": "code",
   "execution_count": null,
   "metadata": {},
   "outputs": [],
   "source": [
    "team1 = [\"A Symonds\", \"AC Gilchrist\",\"SR Watson\",\"AD Russell\",\"BA Stokes\",\"CH Gayle\",\"CH Morris\",\"JC Archer\",\"KA Pollard\",\"KP Pietersen\",\"Shakib Al Hasan\"] \n",
    "team2 = [\"SR Tendulkar\", \"Z Khan\",\"RG Sharma\",\"V Kohli\",\"MS Dhoni\",\"KH Pandya\",\"HH Pandya\",\"JJ Bumrah\",\"SK Raina\",\"YK Pathan\",\"YS Chahal\"]"
   ]
  }
 ],
 "metadata": {
  "kernelspec": {
   "display_name": "actualmajor",
   "language": "python",
   "name": "python3"
  },
  "language_info": {
   "codemirror_mode": {
    "name": "ipython",
    "version": 3
   },
   "file_extension": ".py",
   "mimetype": "text/x-python",
   "name": "python",
   "nbconvert_exporter": "python",
   "pygments_lexer": "ipython3",
   "version": "3.10.10"
  }
 },
 "nbformat": 4,
 "nbformat_minor": 2
}
